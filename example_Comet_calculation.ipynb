{
 "cells": [
  {
   "cell_type": "markdown",
   "metadata": {},
   "source": [
    "# Calculate spherical harmonics coefficients and estimate the time of comet formation"
   ]
  },
  {
   "cell_type": "code",
   "execution_count": null,
   "metadata": {},
   "outputs": [],
   "source": [
    "%load_ext autoreload\n",
    "%autoreload 2"
   ]
  },
  {
   "cell_type": "code",
   "execution_count": null,
   "metadata": {},
   "outputs": [],
   "source": [
    "import numpy as np\n",
    "import scipy\n",
    "import matplotlib.pyplot as plt\n",
    "from traps.abstract_trap import Coords\n",
    "from SIMION.PA import PA\n",
    "import traps\n",
    "import combine\n",
    "import logging\n",
    "import comet_calculator\n",
    "logging.getLogger().setLevel(logging.INFO)\n",
    "from traps import abstract_trap\n",
    "\n",
    "import utils_for_trap"
   ]
  },
  {
   "cell_type": "markdown",
   "metadata": {},
   "source": [
    "generate, refine, adjust trap"
   ]
  },
  {
   "cell_type": "code",
   "execution_count": null,
   "metadata": {
    "scrolled": false
   },
   "outputs": [],
   "source": [
    "trap = traps.get_current_trap()\n",
    "logging.info(trap.__class__)\n",
    "trap.generate_trap()\n",
    "trap.refine_trap()\n",
    "trap.adjust_trap() \n",
    "trap.load_adjusted_pa()\n",
    "logging.info(\"trap created\")"
   ]
  },
  {
   "cell_type": "markdown",
   "metadata": {},
   "source": [
    "average the electric potential and calculate the coefficients on $Y_l^0$"
   ]
  },
  {
   "cell_type": "code",
   "execution_count": null,
   "metadata": {},
   "outputs": [],
   "source": [
    "Phi, Rs, Zs = utils_for_trap.get_averaged_phi(trap)\n",
    "d = trap.get_d()  # the haracteristic distance of the trap\n",
    "coeffs = comet_calculator.get_Y_coefs(Rs, Zs, Phi, d)\n",
    "comet_calculator.print_coeffs(coeffs)"
   ]
  },
  {
   "cell_type": "markdown",
   "metadata": {},
   "source": [
    "check the $A_2^0$ coefficient and adjsut the voltage to make it be the same as in cubic trap"
   ]
  },
  {
   "cell_type": "code",
   "execution_count": null,
   "metadata": {},
   "outputs": [],
   "source": [
    "abs_A20 = coeffs[1]/d**2\n",
    "abs_A20, comet_calculator._A_20_COMPARABLE / abs_A20"
   ]
  },
  {
   "cell_type": "markdown",
   "metadata": {},
   "source": [
    "estimate the time of comet formation"
   ]
  },
  {
   "cell_type": "code",
   "execution_count": null,
   "metadata": {},
   "outputs": [],
   "source": [
    "min_omega, max_omega = comet_calculator.find_delta_omega(*coeffs, d)\n",
    "time_to_comet_formation = comet_calculator.estimate_comet_time_formation(min_omega, max_omega)\n",
    "print(min_omega, max_omega)\n",
    "print(f\"!!!! TIME OF COMET FORMATION for trap '{trap.name}' = {time_to_comet_formation:.1e} s\")"
   ]
  },
  {
   "cell_type": "markdown",
   "metadata": {},
   "source": [
    "plot the electric potential"
   ]
  },
  {
   "cell_type": "code",
   "execution_count": null,
   "metadata": {},
   "outputs": [],
   "source": [
    "Phi, Rs, Zs = utils_for_trap.get_averaged_phi(trap, max_r=trap.trap_border.y, max_z=trap.trap_border.z)\n",
    "Phi20 = (abs_A20) * (Zs ** 2 - Rs ** 2 / 2)"
   ]
  },
  {
   "cell_type": "code",
   "execution_count": null,
   "metadata": {},
   "outputs": [],
   "source": [
    "comet_calculator.plot_graphic(Rs, Zs, Phi, Phi20, axis=\"z\")\n",
    "comet_calculator.plot_graphic(Rs, Zs, Phi, Phi20, axis=\"r\")\n",
    "comet_calculator.combine_copy_delete(trap, copy=True, delete=False, show=True)"
   ]
  },
  {
   "cell_type": "code",
   "execution_count": null,
   "metadata": {},
   "outputs": [],
   "source": [
    "comet_calculator.plot_contour(Rs, Zs, Phi, trap, mode=\"half\")"
   ]
  },
  {
   "cell_type": "markdown",
   "metadata": {},
   "source": [
    "combine this 2D pics and 3D visualization"
   ]
  },
  {
   "cell_type": "code",
   "execution_count": null,
   "metadata": {},
   "outputs": [],
   "source": [
    "combine.combine_pics(trap.name, with_contour=True, show=True)"
   ]
  },
  {
   "cell_type": "code",
   "execution_count": null,
   "metadata": {},
   "outputs": [],
   "source": []
  }
 ],
 "metadata": {
  "kernelspec": {
   "display_name": "Python 3",
   "language": "python",
   "name": "python3"
  },
  "language_info": {
   "codemirror_mode": {
    "name": "ipython",
    "version": 3
   },
   "file_extension": ".py",
   "mimetype": "text/x-python",
   "name": "python",
   "nbconvert_exporter": "python",
   "pygments_lexer": "ipython3",
   "version": "3.7.3"
  }
 },
 "nbformat": 4,
 "nbformat_minor": 2
}
